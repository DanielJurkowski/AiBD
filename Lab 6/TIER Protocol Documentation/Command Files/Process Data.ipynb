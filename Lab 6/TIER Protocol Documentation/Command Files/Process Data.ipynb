{
 "cells": [
  {
   "cell_type": "code",
   "execution_count": 173,
   "outputs": [
    {
     "data": {
      "text/plain": "     Unnamed: 0  Dni od zakupu       Marka  Wiek kupującego Płeć kupującego  \\\n0             0              6       Tefal             43.0               K   \n1             1              9  Electrolux             35.0             bd.   \n2             2              3        Beko             40.0             bd.   \n3             3              3       Tefal             37.0             bd.   \n4             4              8       Tefal             34.0               K   \n..          ...            ...         ...              ...             ...   \n520         520              7       Tefal             36.0             bd.   \n521         521             12        Beko             35.0               K   \n522         522              9  Electrolux             18.0               K   \n523         523              7     Samsung             32.0               K   \n524         524             10     Samsung             20.0               K   \n\n     Ocena  \n0      2.5  \n1      3.5  \n2      3.5  \n3      1.5  \n4      2.5  \n..     ...  \n520    3.0  \n521    3.5  \n522    3.0  \n523    2.0  \n524    2.0  \n\n[525 rows x 6 columns]",
      "text/html": "<div>\n<style scoped>\n    .dataframe tbody tr th:only-of-type {\n        vertical-align: middle;\n    }\n\n    .dataframe tbody tr th {\n        vertical-align: top;\n    }\n\n    .dataframe thead th {\n        text-align: right;\n    }\n</style>\n<table border=\"1\" class=\"dataframe\">\n  <thead>\n    <tr style=\"text-align: right;\">\n      <th></th>\n      <th>Unnamed: 0</th>\n      <th>Dni od zakupu</th>\n      <th>Marka</th>\n      <th>Wiek kupującego</th>\n      <th>Płeć kupującego</th>\n      <th>Ocena</th>\n    </tr>\n  </thead>\n  <tbody>\n    <tr>\n      <th>0</th>\n      <td>0</td>\n      <td>6</td>\n      <td>Tefal</td>\n      <td>43.0</td>\n      <td>K</td>\n      <td>2.5</td>\n    </tr>\n    <tr>\n      <th>1</th>\n      <td>1</td>\n      <td>9</td>\n      <td>Electrolux</td>\n      <td>35.0</td>\n      <td>bd.</td>\n      <td>3.5</td>\n    </tr>\n    <tr>\n      <th>2</th>\n      <td>2</td>\n      <td>3</td>\n      <td>Beko</td>\n      <td>40.0</td>\n      <td>bd.</td>\n      <td>3.5</td>\n    </tr>\n    <tr>\n      <th>3</th>\n      <td>3</td>\n      <td>3</td>\n      <td>Tefal</td>\n      <td>37.0</td>\n      <td>bd.</td>\n      <td>1.5</td>\n    </tr>\n    <tr>\n      <th>4</th>\n      <td>4</td>\n      <td>8</td>\n      <td>Tefal</td>\n      <td>34.0</td>\n      <td>K</td>\n      <td>2.5</td>\n    </tr>\n    <tr>\n      <th>...</th>\n      <td>...</td>\n      <td>...</td>\n      <td>...</td>\n      <td>...</td>\n      <td>...</td>\n      <td>...</td>\n    </tr>\n    <tr>\n      <th>520</th>\n      <td>520</td>\n      <td>7</td>\n      <td>Tefal</td>\n      <td>36.0</td>\n      <td>bd.</td>\n      <td>3.0</td>\n    </tr>\n    <tr>\n      <th>521</th>\n      <td>521</td>\n      <td>12</td>\n      <td>Beko</td>\n      <td>35.0</td>\n      <td>K</td>\n      <td>3.5</td>\n    </tr>\n    <tr>\n      <th>522</th>\n      <td>522</td>\n      <td>9</td>\n      <td>Electrolux</td>\n      <td>18.0</td>\n      <td>K</td>\n      <td>3.0</td>\n    </tr>\n    <tr>\n      <th>523</th>\n      <td>523</td>\n      <td>7</td>\n      <td>Samsung</td>\n      <td>32.0</td>\n      <td>K</td>\n      <td>2.0</td>\n    </tr>\n    <tr>\n      <th>524</th>\n      <td>524</td>\n      <td>10</td>\n      <td>Samsung</td>\n      <td>20.0</td>\n      <td>K</td>\n      <td>2.0</td>\n    </tr>\n  </tbody>\n</table>\n<p>525 rows × 6 columns</p>\n</div>"
     },
     "execution_count": 173,
     "metadata": {},
     "output_type": "execute_result"
    }
   ],
   "source": [
    "import pandas as pd\n",
    "\n",
    "data = pd.read_csv('../Original Data/15_ZACHODNIOPOMORSKIE.csv')\n",
    "data"
   ],
   "metadata": {
    "collapsed": false
   }
  },
  {
   "cell_type": "code",
   "execution_count": 174,
   "outputs": [
    {
     "name": "stdout",
     "output_type": "stream",
     "text": [
      "<class 'pandas.core.frame.DataFrame'>\n",
      "RangeIndex: 525 entries, 0 to 524\n",
      "Data columns (total 6 columns):\n",
      " #   Column           Non-Null Count  Dtype  \n",
      "---  ------           --------------  -----  \n",
      " 0   Unnamed: 0       525 non-null    int64  \n",
      " 1   Dni od zakupu    525 non-null    int64  \n",
      " 2   Marka            525 non-null    object \n",
      " 3   Wiek kupującego  467 non-null    float64\n",
      " 4   Płeć kupującego  525 non-null    object \n",
      " 5   Ocena            525 non-null    float64\n",
      "dtypes: float64(2), int64(2), object(2)\n",
      "memory usage: 24.7+ KB\n"
     ]
    }
   ],
   "source": [
    "data.info()"
   ],
   "metadata": {
    "collapsed": false
   }
  },
  {
   "cell_type": "code",
   "execution_count": 175,
   "outputs": [
    {
     "data": {
      "text/plain": "       Unnamed: 0  Dni od zakupu  Wiek kupującego       Ocena\ncount  525.000000     525.000000       467.000000  525.000000\nmean   262.000000       6.998095        40.265525    2.332381\nstd    151.698715       2.761167         9.338539    1.092348\nmin      0.000000       1.000000        18.000000    0.000000\n25%    131.000000       5.000000        34.000000    1.500000\n50%    262.000000       7.000000        40.000000    2.500000\n75%    393.000000       9.000000        47.000000    3.000000\nmax    524.000000      16.000000        76.000000    5.000000",
      "text/html": "<div>\n<style scoped>\n    .dataframe tbody tr th:only-of-type {\n        vertical-align: middle;\n    }\n\n    .dataframe tbody tr th {\n        vertical-align: top;\n    }\n\n    .dataframe thead th {\n        text-align: right;\n    }\n</style>\n<table border=\"1\" class=\"dataframe\">\n  <thead>\n    <tr style=\"text-align: right;\">\n      <th></th>\n      <th>Unnamed: 0</th>\n      <th>Dni od zakupu</th>\n      <th>Wiek kupującego</th>\n      <th>Ocena</th>\n    </tr>\n  </thead>\n  <tbody>\n    <tr>\n      <th>count</th>\n      <td>525.000000</td>\n      <td>525.000000</td>\n      <td>467.000000</td>\n      <td>525.000000</td>\n    </tr>\n    <tr>\n      <th>mean</th>\n      <td>262.000000</td>\n      <td>6.998095</td>\n      <td>40.265525</td>\n      <td>2.332381</td>\n    </tr>\n    <tr>\n      <th>std</th>\n      <td>151.698715</td>\n      <td>2.761167</td>\n      <td>9.338539</td>\n      <td>1.092348</td>\n    </tr>\n    <tr>\n      <th>min</th>\n      <td>0.000000</td>\n      <td>1.000000</td>\n      <td>18.000000</td>\n      <td>0.000000</td>\n    </tr>\n    <tr>\n      <th>25%</th>\n      <td>131.000000</td>\n      <td>5.000000</td>\n      <td>34.000000</td>\n      <td>1.500000</td>\n    </tr>\n    <tr>\n      <th>50%</th>\n      <td>262.000000</td>\n      <td>7.000000</td>\n      <td>40.000000</td>\n      <td>2.500000</td>\n    </tr>\n    <tr>\n      <th>75%</th>\n      <td>393.000000</td>\n      <td>9.000000</td>\n      <td>47.000000</td>\n      <td>3.000000</td>\n    </tr>\n    <tr>\n      <th>max</th>\n      <td>524.000000</td>\n      <td>16.000000</td>\n      <td>76.000000</td>\n      <td>5.000000</td>\n    </tr>\n  </tbody>\n</table>\n</div>"
     },
     "execution_count": 175,
     "metadata": {},
     "output_type": "execute_result"
    }
   ],
   "source": [
    "data.describe()"
   ],
   "metadata": {
    "collapsed": false
   }
  },
  {
   "cell_type": "code",
   "execution_count": 176,
   "outputs": [
    {
     "data": {
      "text/plain": "     Dni od zakupu       Marka Wiek kupującego Płeć kupującego  Ocena\n0                6       Tefal           36-45               K    2.5\n4                8       Tefal           26-35               K    2.5\n5                9     Samsung           46-55               K    2.0\n6               13        Beko           56-65               M    2.0\n7                8  Electrolux           26-35               K    2.5\n..             ...         ...             ...             ...    ...\n519              6  Electrolux           46-55               K    2.0\n521             12        Beko           36-45               K    3.5\n522              9  Electrolux           18-25               K    3.0\n523              7     Samsung           26-35               K    2.0\n524             10     Samsung           18-25               K    2.0\n\n[389 rows x 5 columns]",
      "text/html": "<div>\n<style scoped>\n    .dataframe tbody tr th:only-of-type {\n        vertical-align: middle;\n    }\n\n    .dataframe tbody tr th {\n        vertical-align: top;\n    }\n\n    .dataframe thead th {\n        text-align: right;\n    }\n</style>\n<table border=\"1\" class=\"dataframe\">\n  <thead>\n    <tr style=\"text-align: right;\">\n      <th></th>\n      <th>Dni od zakupu</th>\n      <th>Marka</th>\n      <th>Wiek kupującego</th>\n      <th>Płeć kupującego</th>\n      <th>Ocena</th>\n    </tr>\n  </thead>\n  <tbody>\n    <tr>\n      <th>0</th>\n      <td>6</td>\n      <td>Tefal</td>\n      <td>36-45</td>\n      <td>K</td>\n      <td>2.5</td>\n    </tr>\n    <tr>\n      <th>4</th>\n      <td>8</td>\n      <td>Tefal</td>\n      <td>26-35</td>\n      <td>K</td>\n      <td>2.5</td>\n    </tr>\n    <tr>\n      <th>5</th>\n      <td>9</td>\n      <td>Samsung</td>\n      <td>46-55</td>\n      <td>K</td>\n      <td>2.0</td>\n    </tr>\n    <tr>\n      <th>6</th>\n      <td>13</td>\n      <td>Beko</td>\n      <td>56-65</td>\n      <td>M</td>\n      <td>2.0</td>\n    </tr>\n    <tr>\n      <th>7</th>\n      <td>8</td>\n      <td>Electrolux</td>\n      <td>26-35</td>\n      <td>K</td>\n      <td>2.5</td>\n    </tr>\n    <tr>\n      <th>...</th>\n      <td>...</td>\n      <td>...</td>\n      <td>...</td>\n      <td>...</td>\n      <td>...</td>\n    </tr>\n    <tr>\n      <th>519</th>\n      <td>6</td>\n      <td>Electrolux</td>\n      <td>46-55</td>\n      <td>K</td>\n      <td>2.0</td>\n    </tr>\n    <tr>\n      <th>521</th>\n      <td>12</td>\n      <td>Beko</td>\n      <td>36-45</td>\n      <td>K</td>\n      <td>3.5</td>\n    </tr>\n    <tr>\n      <th>522</th>\n      <td>9</td>\n      <td>Electrolux</td>\n      <td>18-25</td>\n      <td>K</td>\n      <td>3.0</td>\n    </tr>\n    <tr>\n      <th>523</th>\n      <td>7</td>\n      <td>Samsung</td>\n      <td>26-35</td>\n      <td>K</td>\n      <td>2.0</td>\n    </tr>\n    <tr>\n      <th>524</th>\n      <td>10</td>\n      <td>Samsung</td>\n      <td>18-25</td>\n      <td>K</td>\n      <td>2.0</td>\n    </tr>\n  </tbody>\n</table>\n<p>389 rows × 5 columns</p>\n</div>"
     },
     "execution_count": 176,
     "metadata": {},
     "output_type": "execute_result"
    }
   ],
   "source": [
    "data.pop('Unnamed: 0')\n",
    "\n",
    "bins = [0, 25, 35, 45, 55, 65, 120]\n",
    "labels = ['18-25', '26-35', '36-45', '46-55', '56-65', '66+']\n",
    "data['Wiek kupującego'] = pd.cut(data['Wiek kupującego'], bins=bins, labels=labels, right=False)\n",
    "\n",
    "data = data.dropna(axis=0)\n",
    "data = data[data['Płeć kupującego'] != 'bd.']\n",
    "\n",
    "data.to_csv('../Analysis Data/data.csv')\n",
    "data"
   ],
   "metadata": {
    "collapsed": false
   }
  }
 ],
 "metadata": {
  "kernelspec": {
   "display_name": "Python 3",
   "language": "python",
   "name": "python3"
  },
  "language_info": {
   "codemirror_mode": {
    "name": "ipython",
    "version": 2
   },
   "file_extension": ".py",
   "mimetype": "text/x-python",
   "name": "python",
   "nbconvert_exporter": "python",
   "pygments_lexer": "ipython2",
   "version": "2.7.6"
  }
 },
 "nbformat": 4,
 "nbformat_minor": 0
}
