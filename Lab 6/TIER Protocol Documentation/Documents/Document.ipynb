{
 "cells": [
  {
   "cell_type": "markdown",
   "source": [
    "#### Wstęp\n",
    "Celem laboratorium jest stworzenie projektu zawierającego analizę danych o zakupie odkurzaczy w województwie zachodniopomorskim, wykorzystując przy tym zasady protokołu TIER."
   ],
   "metadata": {
    "collapsed": false
   },
   "outputs": []
  },
  {
   "cell_type": "markdown",
   "source": [
    "#### Struktura projektu - TIER Protocol Documentation\n",
    "Projekt jest podzielony na 4 foldery:\n",
    "- Original Data, zawiera wszelkie wstępne dane użyte w projekcie,\n",
    "- Command Files, zawiera pliki Jupyter Notebook służące przetworzeniu danych oraz ich analizie. W pliku Analysis Data, dostępne są sporządzone wykresy oraz wnioski z nich płynące,\n",
    "- Analysis Data, zawiera przetworzone dane,\n",
    "- Documents, zawiera wstęp opisujący projekt, opis folderów, oraz wyciągnięte wnioski płynące ze stworzenia projektu."
   ],
   "metadata": {
    "collapsed": false
   },
   "outputs": []
  },
  {
   "cell_type": "markdown",
   "source": [
    "#### Opis kolumn występujących w przetworzonym zbiorze danych\n",
    "Występuje 5 kolumn\n",
    "- \"Dni od zakupu\", ile dni minęło od zakupu do wystawienia oceny,\n",
    "- \"Marka\", firma, która wykonała odkurzacz,\n",
    "- \"Wiek kupującego\", przedział wiekowy osoby, która dokonała zakupu,\n",
    "- \"Płeć kupującego\", płeć osoby, która dokonała zakup,\n",
    "- \"Ocena\", ocena wystawiona przez kupującego."
   ],
   "metadata": {
    "collapsed": false
   }
  },
  {
   "cell_type": "markdown",
   "source": [
    "#### Wnioski\n",
    "Ćwiczenie, które pojawiło się na tym laboratorium, pozwoliło na utrwalenie oraz wykorzystanie umiejętności dotyczących tematów TIER Protocol, oraz zasad Tidy Data. Stworzony prostą analizę zbioru danych na podstawie poznanych już bibliotek pandas oraz matplotlib."
   ],
   "metadata": {
    "collapsed": false
   }
  }
 ],
 "metadata": {
  "kernelspec": {
   "display_name": "Python 3",
   "language": "python",
   "name": "python3"
  },
  "language_info": {
   "codemirror_mode": {
    "name": "ipython",
    "version": 2
   },
   "file_extension": ".py",
   "mimetype": "text/x-python",
   "name": "python",
   "nbconvert_exporter": "python",
   "pygments_lexer": "ipython2",
   "version": "2.7.6"
  }
 },
 "nbformat": 4,
 "nbformat_minor": 0
}
