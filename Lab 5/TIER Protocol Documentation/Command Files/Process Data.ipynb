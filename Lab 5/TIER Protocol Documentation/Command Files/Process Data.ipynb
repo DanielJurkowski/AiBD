{
 "cells": [
  {
   "cell_type": "code",
   "execution_count": 1,
   "metadata": {
    "collapsed": true
   },
   "outputs": [],
   "source": [
    "import pandas as pd\n",
    "\n",
    "data = pd.read_csv('../Original Data/earthquake_data.csv')"
   ]
  },
  {
   "cell_type": "code",
   "execution_count": 2,
   "outputs": [
    {
     "data": {
      "text/plain": "     In general, how worried are you about earthquakes?  \\\n0                                    Not at all worried   \n1                                      Somewhat worried   \n2                                        Not so worried   \n3                                        Not so worried   \n4                                        Not so worried   \n...                                                 ...   \n1008                                 Not at all worried   \n1009                                     Not so worried   \n1010                                     Not so worried   \n1011                                 Not at all worried   \n1012                                   Somewhat worried   \n\n     How worried are you about the Big One, a massive, catastrophic earthquake?  \\\n0                                        Not so worried                           \n1                                          Very worried                           \n2                                      Somewhat worried                           \n3                                        Not so worried                           \n4                                        Not so worried                           \n...                                                 ...                           \n1008                                 Not at all worried                           \n1009                                   Somewhat worried                           \n1010                                  Extremely worried                           \n1011                                     Not so worried                           \n1012                                     Not so worried                           \n\n     Do you think the \"Big One\" will occur in your lifetime?  \\\n0                                                    No        \n1                                                    No        \n2                                                    No        \n3                                                    No        \n4                                                   Yes        \n...                                                 ...        \n1008                                                 No        \n1009                                                 No        \n1010                                                 No        \n1011                                                 No        \n1012                                                 No        \n\n     Have you ever experienced an earthquake?  \\\n0                 Yes, one or more minor ones   \n1                 Yes, one or more minor ones   \n2                 Yes, one or more minor ones   \n3                 Yes, one or more minor ones   \n4                 Yes, one or more minor ones   \n...                                       ...   \n1008              Yes, one or more minor ones   \n1009              Yes, one or more major ones   \n1010              Yes, one or more minor ones   \n1011                                       No   \n1012              Yes, one or more minor ones   \n\n     Have you or anyone in your household taken any precautions for an earthquake (packed an earthquake survival kit, prepared an evacuation plan, etc.)?  \\\n0                                                    No                                                                                                     \n1                                                    No                                                                                                     \n2                                                    No                                                                                                     \n3                                                    No                                                                                                     \n4                                                    No                                                                                                     \n...                                                 ...                                                                                                     \n1008                                                 No                                                                                                     \n1009                                                Yes                                                                                                     \n1010                                                 No                                                                                                     \n1011                                                 No                                                                                                     \n1012                                                 No                                                                                                     \n\n     How familiar are you with the San Andreas Fault line?  \\\n0                                     Somewhat familiar      \n1                                   Not at all familiar      \n2                                         Very familiar      \n3                                         Very familiar      \n4                                     Somewhat familiar      \n...                                                 ...      \n1008                                      Very familiar      \n1009                                 Extremely familiar      \n1010                                  Somewhat familiar      \n1011                                  Somewhat familiar      \n1012                                                NaN      \n\n     How familiar are you with the Yellowstone Supervolcano?      Age  \\\n0                                       Not so familiar       18 - 29   \n1                                   Not at all familiar       18 - 29   \n2                                     Somewhat familiar       18 - 29   \n3                                       Not so familiar       18 - 29   \n4                                    Extremely familiar       18 - 29   \n...                                                 ...           ...   \n1008                                    Not so familiar            60   \n1009                                  Somewhat familiar            60   \n1010                                  Somewhat familiar       30 - 44   \n1011                                  Somewhat familiar       30 - 44   \n1012                                                NaN           NaN   \n\n     What is your gender?  \\\n0                    Male   \n1                    Male   \n2                    Male   \n3                    Male   \n4                    Male   \n...                   ...   \n1008                 Male   \n1009               Female   \n1010               Female   \n1011               Female   \n1012                  NaN   \n\n     How much total combined money did all members of your HOUSEHOLD earn last year?  \\\n0                                  Prefer not to answer                                \n1                                    $75,000 to $99,999                                \n2                                    $10,000 to $24,999                                \n3                                    $25,000 to $49,999                                \n4                                       $200,000 and up                                \n...                                                 ...                                \n1008                               Prefer not to answer                                \n1009                                 $50,000 to $74,999                                \n1010                               Prefer not to answer                                \n1011                                 $50,000 to $74,999                                \n1012                                                NaN                                \n\n               US Region  \n0            New England  \n1     East North Central  \n2                Pacific  \n3     West South Central  \n4        Middle Atlantic  \n...                  ...  \n1008             Pacific  \n1009             Pacific  \n1010     Middle Atlantic  \n1011  East North Central  \n1012                 NaN  \n\n[1013 rows x 11 columns]",
      "text/html": "<div>\n<style scoped>\n    .dataframe tbody tr th:only-of-type {\n        vertical-align: middle;\n    }\n\n    .dataframe tbody tr th {\n        vertical-align: top;\n    }\n\n    .dataframe thead th {\n        text-align: right;\n    }\n</style>\n<table border=\"1\" class=\"dataframe\">\n  <thead>\n    <tr style=\"text-align: right;\">\n      <th></th>\n      <th>In general, how worried are you about earthquakes?</th>\n      <th>How worried are you about the Big One, a massive, catastrophic earthquake?</th>\n      <th>Do you think the \"Big One\" will occur in your lifetime?</th>\n      <th>Have you ever experienced an earthquake?</th>\n      <th>Have you or anyone in your household taken any precautions for an earthquake (packed an earthquake survival kit, prepared an evacuation plan, etc.)?</th>\n      <th>How familiar are you with the San Andreas Fault line?</th>\n      <th>How familiar are you with the Yellowstone Supervolcano?</th>\n      <th>Age</th>\n      <th>What is your gender?</th>\n      <th>How much total combined money did all members of your HOUSEHOLD earn last year?</th>\n      <th>US Region</th>\n    </tr>\n  </thead>\n  <tbody>\n    <tr>\n      <th>0</th>\n      <td>Not at all worried</td>\n      <td>Not so worried</td>\n      <td>No</td>\n      <td>Yes, one or more minor ones</td>\n      <td>No</td>\n      <td>Somewhat familiar</td>\n      <td>Not so familiar</td>\n      <td>18 - 29</td>\n      <td>Male</td>\n      <td>Prefer not to answer</td>\n      <td>New England</td>\n    </tr>\n    <tr>\n      <th>1</th>\n      <td>Somewhat worried</td>\n      <td>Very worried</td>\n      <td>No</td>\n      <td>Yes, one or more minor ones</td>\n      <td>No</td>\n      <td>Not at all familiar</td>\n      <td>Not at all familiar</td>\n      <td>18 - 29</td>\n      <td>Male</td>\n      <td>$75,000 to $99,999</td>\n      <td>East North Central</td>\n    </tr>\n    <tr>\n      <th>2</th>\n      <td>Not so worried</td>\n      <td>Somewhat worried</td>\n      <td>No</td>\n      <td>Yes, one or more minor ones</td>\n      <td>No</td>\n      <td>Very familiar</td>\n      <td>Somewhat familiar</td>\n      <td>18 - 29</td>\n      <td>Male</td>\n      <td>$10,000 to $24,999</td>\n      <td>Pacific</td>\n    </tr>\n    <tr>\n      <th>3</th>\n      <td>Not so worried</td>\n      <td>Not so worried</td>\n      <td>No</td>\n      <td>Yes, one or more minor ones</td>\n      <td>No</td>\n      <td>Very familiar</td>\n      <td>Not so familiar</td>\n      <td>18 - 29</td>\n      <td>Male</td>\n      <td>$25,000 to $49,999</td>\n      <td>West South Central</td>\n    </tr>\n    <tr>\n      <th>4</th>\n      <td>Not so worried</td>\n      <td>Not so worried</td>\n      <td>Yes</td>\n      <td>Yes, one or more minor ones</td>\n      <td>No</td>\n      <td>Somewhat familiar</td>\n      <td>Extremely familiar</td>\n      <td>18 - 29</td>\n      <td>Male</td>\n      <td>$200,000 and up</td>\n      <td>Middle Atlantic</td>\n    </tr>\n    <tr>\n      <th>...</th>\n      <td>...</td>\n      <td>...</td>\n      <td>...</td>\n      <td>...</td>\n      <td>...</td>\n      <td>...</td>\n      <td>...</td>\n      <td>...</td>\n      <td>...</td>\n      <td>...</td>\n      <td>...</td>\n    </tr>\n    <tr>\n      <th>1008</th>\n      <td>Not at all worried</td>\n      <td>Not at all worried</td>\n      <td>No</td>\n      <td>Yes, one or more minor ones</td>\n      <td>No</td>\n      <td>Very familiar</td>\n      <td>Not so familiar</td>\n      <td>60</td>\n      <td>Male</td>\n      <td>Prefer not to answer</td>\n      <td>Pacific</td>\n    </tr>\n    <tr>\n      <th>1009</th>\n      <td>Not so worried</td>\n      <td>Somewhat worried</td>\n      <td>No</td>\n      <td>Yes, one or more major ones</td>\n      <td>Yes</td>\n      <td>Extremely familiar</td>\n      <td>Somewhat familiar</td>\n      <td>60</td>\n      <td>Female</td>\n      <td>$50,000 to $74,999</td>\n      <td>Pacific</td>\n    </tr>\n    <tr>\n      <th>1010</th>\n      <td>Not so worried</td>\n      <td>Extremely worried</td>\n      <td>No</td>\n      <td>Yes, one or more minor ones</td>\n      <td>No</td>\n      <td>Somewhat familiar</td>\n      <td>Somewhat familiar</td>\n      <td>30 - 44</td>\n      <td>Female</td>\n      <td>Prefer not to answer</td>\n      <td>Middle Atlantic</td>\n    </tr>\n    <tr>\n      <th>1011</th>\n      <td>Not at all worried</td>\n      <td>Not so worried</td>\n      <td>No</td>\n      <td>No</td>\n      <td>No</td>\n      <td>Somewhat familiar</td>\n      <td>Somewhat familiar</td>\n      <td>30 - 44</td>\n      <td>Female</td>\n      <td>$50,000 to $74,999</td>\n      <td>East North Central</td>\n    </tr>\n    <tr>\n      <th>1012</th>\n      <td>Somewhat worried</td>\n      <td>Not so worried</td>\n      <td>No</td>\n      <td>Yes, one or more minor ones</td>\n      <td>No</td>\n      <td>NaN</td>\n      <td>NaN</td>\n      <td>NaN</td>\n      <td>NaN</td>\n      <td>NaN</td>\n      <td>NaN</td>\n    </tr>\n  </tbody>\n</table>\n<p>1013 rows × 11 columns</p>\n</div>"
     },
     "execution_count": 2,
     "metadata": {},
     "output_type": "execute_result"
    }
   ],
   "source": [
    "data"
   ],
   "metadata": {
    "collapsed": false
   }
  },
  {
   "cell_type": "code",
   "execution_count": 3,
   "outputs": [
    {
     "name": "stdout",
     "output_type": "stream",
     "text": [
      "<class 'pandas.core.frame.DataFrame'>\n",
      "RangeIndex: 1013 entries, 0 to 1012\n",
      "Data columns (total 11 columns):\n",
      " #   Column                                                                                                                                                Non-Null Count  Dtype \n",
      "---  ------                                                                                                                                                --------------  ----- \n",
      " 0   In general, how worried are you about earthquakes?                                                                                                    1013 non-null   object\n",
      " 1   How worried are you about the Big One, a massive, catastrophic earthquake?                                                                            1013 non-null   object\n",
      " 2   Do you think the \"Big One\" will occur in your lifetime?                                                                                               1013 non-null   object\n",
      " 3   Have you ever experienced an earthquake?                                                                                                              1006 non-null   object\n",
      " 4   Have you or anyone in your household taken any precautions for an earthquake (packed an earthquake survival kit, prepared an evacuation plan, etc.)?  1006 non-null   object\n",
      " 5   How familiar are you with the San Andreas Fault line?                                                                                                 1001 non-null   object\n",
      " 6   How familiar are you with the Yellowstone Supervolcano?                                                                                               1001 non-null   object\n",
      " 7   Age                                                                                                                                                   1001 non-null   object\n",
      " 8   What is your gender?                                                                                                                                  1001 non-null   object\n",
      " 9   How much total combined money did all members of your HOUSEHOLD earn last year?                                                                       1001 non-null   object\n",
      " 10  US Region                                                                                                                                             978 non-null    object\n",
      "dtypes: object(11)\n",
      "memory usage: 87.2+ KB\n"
     ]
    }
   ],
   "source": [
    "data.info()"
   ],
   "metadata": {
    "collapsed": false
   }
  },
  {
   "cell_type": "code",
   "execution_count": 4,
   "outputs": [
    {
     "data": {
      "text/plain": "       In general, how worried are you about earthquakes?  \\\ncount                                                1013   \nunique                                                  5   \ntop                                    Not at all worried   \nfreq                                                  356   \n\n       How worried are you about the Big One, a massive, catastrophic earthquake?  \\\ncount                                                1013                           \nunique                                                  5                           \ntop                                    Not at all worried                           \nfreq                                                  334                           \n\n       Do you think the \"Big One\" will occur in your lifetime?  \\\ncount                                                1013        \nunique                                                  2        \ntop                                                    No        \nfreq                                                  577        \n\n       Have you ever experienced an earthquake?  \\\ncount                                      1006   \nunique                                        3   \ntop                 Yes, one or more minor ones   \nfreq                                        483   \n\n       Have you or anyone in your household taken any precautions for an earthquake (packed an earthquake survival kit, prepared an evacuation plan, etc.)?  \\\ncount                                                1006                                                                                                     \nunique                                                  2                                                                                                     \ntop                                                    No                                                                                                     \nfreq                                                  788                                                                                                     \n\n       How familiar are you with the San Andreas Fault line?  \\\ncount                                                1001      \nunique                                                  5      \ntop                                     Somewhat familiar      \nfreq                                                  397      \n\n       How familiar are you with the Yellowstone Supervolcano?      Age  \\\ncount                                                1001          1001   \nunique                                                  5             4   \ntop                                     Somewhat familiar       45 - 59   \nfreq                                                  280           275   \n\n       What is your gender?  \\\ncount                  1001   \nunique                    2   \ntop                  Female   \nfreq                    521   \n\n       How much total combined money did all members of your HOUSEHOLD earn last year?  \\\ncount                                                1001                                \nunique                                                 11                                \ntop                                    $50,000 to $74,999                                \nfreq                                                  175                                \n\n       US Region  \ncount        978  \nunique         9  \ntop      Pacific  \nfreq         206  ",
      "text/html": "<div>\n<style scoped>\n    .dataframe tbody tr th:only-of-type {\n        vertical-align: middle;\n    }\n\n    .dataframe tbody tr th {\n        vertical-align: top;\n    }\n\n    .dataframe thead th {\n        text-align: right;\n    }\n</style>\n<table border=\"1\" class=\"dataframe\">\n  <thead>\n    <tr style=\"text-align: right;\">\n      <th></th>\n      <th>In general, how worried are you about earthquakes?</th>\n      <th>How worried are you about the Big One, a massive, catastrophic earthquake?</th>\n      <th>Do you think the \"Big One\" will occur in your lifetime?</th>\n      <th>Have you ever experienced an earthquake?</th>\n      <th>Have you or anyone in your household taken any precautions for an earthquake (packed an earthquake survival kit, prepared an evacuation plan, etc.)?</th>\n      <th>How familiar are you with the San Andreas Fault line?</th>\n      <th>How familiar are you with the Yellowstone Supervolcano?</th>\n      <th>Age</th>\n      <th>What is your gender?</th>\n      <th>How much total combined money did all members of your HOUSEHOLD earn last year?</th>\n      <th>US Region</th>\n    </tr>\n  </thead>\n  <tbody>\n    <tr>\n      <th>count</th>\n      <td>1013</td>\n      <td>1013</td>\n      <td>1013</td>\n      <td>1006</td>\n      <td>1006</td>\n      <td>1001</td>\n      <td>1001</td>\n      <td>1001</td>\n      <td>1001</td>\n      <td>1001</td>\n      <td>978</td>\n    </tr>\n    <tr>\n      <th>unique</th>\n      <td>5</td>\n      <td>5</td>\n      <td>2</td>\n      <td>3</td>\n      <td>2</td>\n      <td>5</td>\n      <td>5</td>\n      <td>4</td>\n      <td>2</td>\n      <td>11</td>\n      <td>9</td>\n    </tr>\n    <tr>\n      <th>top</th>\n      <td>Not at all worried</td>\n      <td>Not at all worried</td>\n      <td>No</td>\n      <td>Yes, one or more minor ones</td>\n      <td>No</td>\n      <td>Somewhat familiar</td>\n      <td>Somewhat familiar</td>\n      <td>45 - 59</td>\n      <td>Female</td>\n      <td>$50,000 to $74,999</td>\n      <td>Pacific</td>\n    </tr>\n    <tr>\n      <th>freq</th>\n      <td>356</td>\n      <td>334</td>\n      <td>577</td>\n      <td>483</td>\n      <td>788</td>\n      <td>397</td>\n      <td>280</td>\n      <td>275</td>\n      <td>521</td>\n      <td>175</td>\n      <td>206</td>\n    </tr>\n  </tbody>\n</table>\n</div>"
     },
     "execution_count": 4,
     "metadata": {},
     "output_type": "execute_result"
    }
   ],
   "source": [
    "data.describe()"
   ],
   "metadata": {
    "collapsed": false
   }
  },
  {
   "cell_type": "code",
   "execution_count": 5,
   "outputs": [
    {
     "data": {
      "text/plain": "             how_worried how_worried_big_one big_one_in_lifetime  \\\n0     Not at all worried      Not so worried                  No   \n1       Somewhat worried        Very worried                  No   \n2         Not so worried    Somewhat worried                  No   \n3         Not so worried      Not so worried                  No   \n4         Not so worried      Not so worried                 Yes   \n...                  ...                 ...                 ...   \n1008  Not at all worried  Not at all worried                  No   \n1009      Not so worried    Somewhat worried                  No   \n1010      Not so worried   Extremely worried                  No   \n1011  Not at all worried      Not so worried                  No   \n1012    Somewhat worried      Not so worried                  No   \n\n                   earthquake_exp precautions how_familiar_sa_fault_line  \\\n0     Yes, one or more minor ones          No          Somewhat familiar   \n1     Yes, one or more minor ones          No        Not at all familiar   \n2     Yes, one or more minor ones          No              Very familiar   \n3     Yes, one or more minor ones          No              Very familiar   \n4     Yes, one or more minor ones          No          Somewhat familiar   \n...                           ...         ...                        ...   \n1008  Yes, one or more minor ones          No              Very familiar   \n1009  Yes, one or more major ones         Yes         Extremely familiar   \n1010  Yes, one or more minor ones          No          Somewhat familiar   \n1011                           No          No          Somewhat familiar   \n1012  Yes, one or more minor ones          No                        NaN   \n\n     how_familiar_yellowstone      age  gender                income  \\\n0             Not so familiar  18 - 29    Male  Prefer not to answer   \n1         Not at all familiar  18 - 29    Male    $75,000 to $99,999   \n2           Somewhat familiar  18 - 29    Male    $10,000 to $24,999   \n3             Not so familiar  18 - 29    Male    $25,000 to $49,999   \n4          Extremely familiar  18 - 29    Male       $200,000 and up   \n...                       ...      ...     ...                   ...   \n1008          Not so familiar       60    Male  Prefer not to answer   \n1009        Somewhat familiar       60  Female    $50,000 to $74,999   \n1010        Somewhat familiar  30 - 44  Female  Prefer not to answer   \n1011        Somewhat familiar  30 - 44  Female    $50,000 to $74,999   \n1012                      NaN      NaN     NaN                   NaN   \n\n                  region  \n0            New England  \n1     East North Central  \n2                Pacific  \n3     West South Central  \n4        Middle Atlantic  \n...                  ...  \n1008             Pacific  \n1009             Pacific  \n1010     Middle Atlantic  \n1011  East North Central  \n1012                 NaN  \n\n[1013 rows x 11 columns]",
      "text/html": "<div>\n<style scoped>\n    .dataframe tbody tr th:only-of-type {\n        vertical-align: middle;\n    }\n\n    .dataframe tbody tr th {\n        vertical-align: top;\n    }\n\n    .dataframe thead th {\n        text-align: right;\n    }\n</style>\n<table border=\"1\" class=\"dataframe\">\n  <thead>\n    <tr style=\"text-align: right;\">\n      <th></th>\n      <th>how_worried</th>\n      <th>how_worried_big_one</th>\n      <th>big_one_in_lifetime</th>\n      <th>earthquake_exp</th>\n      <th>precautions</th>\n      <th>how_familiar_sa_fault_line</th>\n      <th>how_familiar_yellowstone</th>\n      <th>age</th>\n      <th>gender</th>\n      <th>income</th>\n      <th>region</th>\n    </tr>\n  </thead>\n  <tbody>\n    <tr>\n      <th>0</th>\n      <td>Not at all worried</td>\n      <td>Not so worried</td>\n      <td>No</td>\n      <td>Yes, one or more minor ones</td>\n      <td>No</td>\n      <td>Somewhat familiar</td>\n      <td>Not so familiar</td>\n      <td>18 - 29</td>\n      <td>Male</td>\n      <td>Prefer not to answer</td>\n      <td>New England</td>\n    </tr>\n    <tr>\n      <th>1</th>\n      <td>Somewhat worried</td>\n      <td>Very worried</td>\n      <td>No</td>\n      <td>Yes, one or more minor ones</td>\n      <td>No</td>\n      <td>Not at all familiar</td>\n      <td>Not at all familiar</td>\n      <td>18 - 29</td>\n      <td>Male</td>\n      <td>$75,000 to $99,999</td>\n      <td>East North Central</td>\n    </tr>\n    <tr>\n      <th>2</th>\n      <td>Not so worried</td>\n      <td>Somewhat worried</td>\n      <td>No</td>\n      <td>Yes, one or more minor ones</td>\n      <td>No</td>\n      <td>Very familiar</td>\n      <td>Somewhat familiar</td>\n      <td>18 - 29</td>\n      <td>Male</td>\n      <td>$10,000 to $24,999</td>\n      <td>Pacific</td>\n    </tr>\n    <tr>\n      <th>3</th>\n      <td>Not so worried</td>\n      <td>Not so worried</td>\n      <td>No</td>\n      <td>Yes, one or more minor ones</td>\n      <td>No</td>\n      <td>Very familiar</td>\n      <td>Not so familiar</td>\n      <td>18 - 29</td>\n      <td>Male</td>\n      <td>$25,000 to $49,999</td>\n      <td>West South Central</td>\n    </tr>\n    <tr>\n      <th>4</th>\n      <td>Not so worried</td>\n      <td>Not so worried</td>\n      <td>Yes</td>\n      <td>Yes, one or more minor ones</td>\n      <td>No</td>\n      <td>Somewhat familiar</td>\n      <td>Extremely familiar</td>\n      <td>18 - 29</td>\n      <td>Male</td>\n      <td>$200,000 and up</td>\n      <td>Middle Atlantic</td>\n    </tr>\n    <tr>\n      <th>...</th>\n      <td>...</td>\n      <td>...</td>\n      <td>...</td>\n      <td>...</td>\n      <td>...</td>\n      <td>...</td>\n      <td>...</td>\n      <td>...</td>\n      <td>...</td>\n      <td>...</td>\n      <td>...</td>\n    </tr>\n    <tr>\n      <th>1008</th>\n      <td>Not at all worried</td>\n      <td>Not at all worried</td>\n      <td>No</td>\n      <td>Yes, one or more minor ones</td>\n      <td>No</td>\n      <td>Very familiar</td>\n      <td>Not so familiar</td>\n      <td>60</td>\n      <td>Male</td>\n      <td>Prefer not to answer</td>\n      <td>Pacific</td>\n    </tr>\n    <tr>\n      <th>1009</th>\n      <td>Not so worried</td>\n      <td>Somewhat worried</td>\n      <td>No</td>\n      <td>Yes, one or more major ones</td>\n      <td>Yes</td>\n      <td>Extremely familiar</td>\n      <td>Somewhat familiar</td>\n      <td>60</td>\n      <td>Female</td>\n      <td>$50,000 to $74,999</td>\n      <td>Pacific</td>\n    </tr>\n    <tr>\n      <th>1010</th>\n      <td>Not so worried</td>\n      <td>Extremely worried</td>\n      <td>No</td>\n      <td>Yes, one or more minor ones</td>\n      <td>No</td>\n      <td>Somewhat familiar</td>\n      <td>Somewhat familiar</td>\n      <td>30 - 44</td>\n      <td>Female</td>\n      <td>Prefer not to answer</td>\n      <td>Middle Atlantic</td>\n    </tr>\n    <tr>\n      <th>1011</th>\n      <td>Not at all worried</td>\n      <td>Not so worried</td>\n      <td>No</td>\n      <td>No</td>\n      <td>No</td>\n      <td>Somewhat familiar</td>\n      <td>Somewhat familiar</td>\n      <td>30 - 44</td>\n      <td>Female</td>\n      <td>$50,000 to $74,999</td>\n      <td>East North Central</td>\n    </tr>\n    <tr>\n      <th>1012</th>\n      <td>Somewhat worried</td>\n      <td>Not so worried</td>\n      <td>No</td>\n      <td>Yes, one or more minor ones</td>\n      <td>No</td>\n      <td>NaN</td>\n      <td>NaN</td>\n      <td>NaN</td>\n      <td>NaN</td>\n      <td>NaN</td>\n      <td>NaN</td>\n    </tr>\n  </tbody>\n</table>\n<p>1013 rows × 11 columns</p>\n</div>"
     },
     "execution_count": 5,
     "metadata": {},
     "output_type": "execute_result"
    }
   ],
   "source": [
    "data_new = data.rename(columns={'In general, how worried are you about earthquakes?' : 'how_worried',\n",
    "                            'How worried are you about the Big One, a massive, catastrophic earthquake?' : 'how_worried_big_one',\n",
    "                            'Do you think the \"Big One\" will occur in your lifetime?' : 'big_one_in_lifetime',\n",
    "                            'Have you ever experienced an earthquake?' : 'earthquake_exp',\n",
    "                            'Have you or anyone in your household taken any precautions for an earthquake (packed an earthquake survival kit, prepared an evacuation plan, etc.)?' : 'precautions',\n",
    "                            'How familiar are you with the San Andreas Fault line?' : 'how_familiar_sa_fault_line',\n",
    "                            'How familiar are you with the Yellowstone Supervolcano?' : 'how_familiar_yellowstone',\n",
    "                            'Age' : 'age',\n",
    "                            'What is your gender?' : 'gender',\n",
    "                            'How much total combined money did all members of your HOUSEHOLD earn last year?' : 'income',\n",
    "                            'US Region' : 'region'\n",
    "                           })\n",
    "data_new"
   ],
   "metadata": {
    "collapsed": false
   }
  },
  {
   "cell_type": "markdown",
   "source": [],
   "metadata": {
    "collapsed": false
   }
  },
  {
   "cell_type": "code",
   "execution_count": 6,
   "outputs": [],
   "source": [
    "data_worries_age_gender = data.groupby(['Age', 'What is your gender?', 'In general, how worried are you about earthquakes?']).size().to_frame('Count').sort_values(['Age', 'What is your gender?', 'Count'], ascending=True)\n",
    "\n",
    "data_worries_age_gender.to_csv('data_worries_age_gender.csv')"
   ],
   "metadata": {
    "collapsed": false
   }
  },
  {
   "cell_type": "code",
   "execution_count": 7,
   "outputs": [],
   "source": [
    "data_experience_age_gender = data.groupby(['Age', 'What is your gender?', 'Have you ever experienced an earthquake?']).size().to_frame('Count').sort_values(['Age', 'What is your gender?', 'Count'], ascending=True)\n",
    "\n",
    "data_experience_age_gender.to_csv('data_experience_age_gender.csv')"
   ],
   "metadata": {
    "collapsed": false
   }
  },
  {
   "cell_type": "code",
   "execution_count": 8,
   "outputs": [],
   "source": [
    "data_bigone_age_gender = data.groupby(['Age', 'What is your gender?', 'Do you think the \"Big One\" will occur in your lifetime?']).size().to_frame('Count').sort_values(['Age', 'What is your gender?', 'Count'], ascending=True)\n",
    "\n",
    "data_bigone_age_gender.to_csv('data_bigone_age_gender.csv')"
   ],
   "metadata": {
    "collapsed": false
   }
  },
  {
   "cell_type": "code",
   "execution_count": 9,
   "outputs": [],
   "source": [
    "data_precautions_age_gender = data.groupby(['Age', 'What is your gender?', 'Have you or anyone in your household taken any precautions for an earthquake (packed an earthquake survival kit, prepared an evacuation plan, etc.)?']).size().to_frame('Count').sort_values(['Age', 'What is your gender?', 'Count'], ascending=True)\n",
    "\n",
    "data_precautions_age_gender.to_csv('data_precautions_age_gender.csv')"
   ],
   "metadata": {
    "collapsed": false
   }
  },
  {
   "cell_type": "code",
   "execution_count": 10,
   "outputs": [],
   "source": [
    "data_sa_age_gender = data.groupby(['Age', 'What is your gender?', 'How familiar are you with the San Andreas Fault line?']).size().to_frame('Count').sort_values(['Age', 'What is your gender?', 'Count'], ascending=True)\n",
    "\n",
    "data_sa_age_gender.to_csv('data_sa_age_gender.csv')"
   ],
   "metadata": {
    "collapsed": false
   }
  },
  {
   "cell_type": "code",
   "execution_count": 11,
   "outputs": [],
   "source": [
    "data_yellowstone_age_gender = data.groupby(['Age', 'What is your gender?', 'How familiar are you with the Yellowstone Supervolcano?']).size().to_frame('Count').sort_values(['Age', 'What is your gender?', 'Count'], ascending=True)\n",
    "\n",
    "data_yellowstone_age_gender.to_csv('data_yellowstone_age_gender.csv')"
   ],
   "metadata": {
    "collapsed": false
   }
  },
  {
   "cell_type": "code",
   "execution_count": 12,
   "outputs": [],
   "source": [
    "data_worries_region = data.groupby(['US Region', 'In general, how worried are you about earthquakes?']).size().to_frame('Count').sort_values(['US Region', 'Count', 'In general, how worried are you about earthquakes?'], ascending=True)\n",
    "\n",
    "data_worries_region.to_csv('data_worries_region.csv')"
   ],
   "metadata": {
    "collapsed": false
   }
  },
  {
   "cell_type": "code",
   "execution_count": 13,
   "outputs": [],
   "source": [
    "data_earthquake_region = data.groupby(['US Region', 'Have you ever experienced an earthquake?']).size().to_frame('Count').sort_values(['US Region', 'Count', 'Have you ever experienced an earthquake?'], ascending=True)\n",
    "\n",
    "data_earthquake_region.to_csv('data_earthquake_region.csv')"
   ],
   "metadata": {
    "collapsed": false
   }
  },
  {
   "cell_type": "code",
   "execution_count": 14,
   "outputs": [],
   "source": [
    "data_sf_region = data.groupby(['US Region', 'How familiar are you with the San Andreas Fault line?']).size().to_frame('Count').sort_values(['US Region', 'Count', 'How familiar are you with the San Andreas Fault line?'], ascending=True)\n",
    "\n",
    "data_sf_region.to_csv('data_sf_region.csv')"
   ],
   "metadata": {
    "collapsed": false
   }
  },
  {
   "cell_type": "code",
   "execution_count": 15,
   "outputs": [],
   "source": [
    "data_yellowstone_region = data.groupby(['US Region', 'How familiar are you with the Yellowstone Supervolcano?']).size().to_frame('Count').sort_values(['US Region', 'Count', 'How familiar are you with the Yellowstone Supervolcano?'], ascending=True)\n",
    "\n",
    "data_yellowstone_region.to_csv('data_yellowstone_region.csv')"
   ],
   "metadata": {
    "collapsed": false
   }
  },
  {
   "cell_type": "code",
   "execution_count": 16,
   "outputs": [],
   "source": [
    "data_precautions_region = data.groupby(['US Region', 'Have you or anyone in your household taken any precautions for an earthquake (packed an earthquake survival kit, prepared an evacuation plan, etc.)?']).size().to_frame('Count').sort_values(['US Region', 'Count', 'Have you or anyone in your household taken any precautions for an earthquake (packed an earthquake survival kit, prepared an evacuation plan, etc.)?'], ascending=True)\n",
    "\n",
    "data_precautions_region.to_csv('data_precautions_region.csv')"
   ],
   "metadata": {
    "collapsed": false
   }
  },
  {
   "cell_type": "code",
   "execution_count": 17,
   "outputs": [],
   "source": [
    "data_precautions_income = data.groupby(['How much total combined money did all members of your HOUSEHOLD earn last year?', 'Have you or anyone in your household taken any precautions for an earthquake (packed an earthquake survival kit, prepared an evacuation plan, etc.)?']).size().to_frame('Count').sort_values(['How much total combined money did all members of your HOUSEHOLD earn last year?', 'Count', 'Have you or anyone in your household taken any precautions for an earthquake (packed an earthquake survival kit, prepared an evacuation plan, etc.)?'], ascending=True)\n",
    "\n",
    "data_precautions_income.to_csv('data_precautions_income.csv')"
   ],
   "metadata": {
    "collapsed": false
   }
  },
  {
   "cell_type": "markdown",
   "source": [],
   "metadata": {
    "collapsed": false
   }
  }
 ],
 "metadata": {
  "kernelspec": {
   "display_name": "Python 3",
   "language": "python",
   "name": "python3"
  },
  "language_info": {
   "codemirror_mode": {
    "name": "ipython",
    "version": 2
   },
   "file_extension": ".py",
   "mimetype": "text/x-python",
   "name": "python",
   "nbconvert_exporter": "python",
   "pygments_lexer": "ipython2",
   "version": "2.7.6"
  }
 },
 "nbformat": 4,
 "nbformat_minor": 0
}
